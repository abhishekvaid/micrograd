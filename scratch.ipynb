{
 "cells": [
  {
   "cell_type": "code",
   "execution_count": null,
   "metadata": {},
   "outputs": [],
   "source": [
    "def lol():\n",
    "    \n",
    "    h = 0.0001\n",
    "    \n",
    "    a = Value(2.0, label=\"a\")\n",
    "    b = Value(-3.0, label=\"b\")\n",
    "    c = Value(10.0, label=\"c\")\n",
    "    e = a*b ; e.label = \"e\"\n",
    "    d = e + c ; d.label = \"d\"\n",
    "    f = Value(-2.0, label='f')\n",
    "    L = d * f ; L.label = 'L'\n",
    "    L1 = L.data \n",
    "    \n",
    "    a = Value(2.0, label=\"a\")\n",
    "    b = Value(-3.0, label=\"b\")\n",
    "    c = Value(10.0, label=\"c\")\n",
    "    e = a*b ; e.label = \"e\"\n",
    "    d = e + c ; d.label = \"d\"\n",
    "    f = Value(-2.0, label='f')\n",
    "    L = d * f ; L.label = 'L'\n",
    "    L2 = L.data  + h\n",
    "    \n",
    "    print(f\"{L._expr.strip()} =\", (L2 - L1) / h )\n",
    "    \n",
    "\n",
    "lol()\n",
    "    \n",
    "    "
   ]
  },
  {
   "cell_type": "code",
   "execution_count": null,
   "metadata": {},
   "outputs": [],
   "source": [
    "a = Value(2.0, label=\"a\")\n",
    "b = Value(-3.0, label=\"b\")\n",
    "c = Value(10.0, label=\"c\")\n",
    "e = a*b ; e.label = \"e\"\n",
    "d = e + c ; d.label = \"d\"\n",
    "f = Value(-2.0, label='f')\n",
    "L = d * f ; L.label = 'L'\n",
    "L"
   ]
  }
 ],
 "metadata": {
  "language_info": {
   "name": "python"
  }
 },
 "nbformat": 4,
 "nbformat_minor": 2
}
